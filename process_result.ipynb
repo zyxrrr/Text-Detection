{
 "cells": [
  {
   "cell_type": "code",
   "execution_count": 15,
   "metadata": {},
   "outputs": [],
   "source": [
    "import os\n",
    "import numpy as np"
   ]
  },
  {
   "cell_type": "code",
   "execution_count": 18,
   "metadata": {},
   "outputs": [],
   "source": [
    "def process(root_dir, threshold = 0.7):   \n",
    "    for root, dirs, files in os.walk(root_dir):\n",
    "        #image path\n",
    "        for file in files:\n",
    "            \n",
    "            label_name=file        \n",
    "            label_path=os.path.join(root_dir,label_name)\n",
    "            label=open(label_path,'r')    \n",
    "            processed_label=open(\"processed/\"+label_name,'wt')\n",
    "                     \n",
    "            for line in label.readlines():                \n",
    "                line=line.decode('utf-8-sig').strip()  \n",
    "                idx = line.rfind(',')  \n",
    "                #print(idx)\n",
    "                \n",
    "        \n",
    "                bbs=line.split(',')                \n",
    "                prob=float(bbs[8].encode(\"utf-8\"))\n",
    "                if(prob >= threshold):\n",
    "                    tmp = str()\n",
    "                    processed_label.write(line[0:idx] + \"\\n\")\n",
    "                \n",
    "               \n",
    "            processed_label.close()               \n",
    "            label.close()   \n"
   ]
  },
  {
   "cell_type": "code",
   "execution_count": 20,
   "metadata": {},
   "outputs": [],
   "source": [
    "process(\"detection_result/\", threshold = 0.7)"
   ]
  },
  {
   "cell_type": "code",
   "execution_count": null,
   "metadata": {},
   "outputs": [],
   "source": []
  }
 ],
 "metadata": {
  "kernelspec": {
   "display_name": "Python 3",
   "language": "python",
   "name": "python3"
  },
  "language_info": {
   "codemirror_mode": {
    "name": "ipython",
    "version": 2
   },
   "file_extension": ".py",
   "mimetype": "text/x-python",
   "name": "python",
   "nbconvert_exporter": "python",
   "pygments_lexer": "ipython2",
   "version": "2.7.12"
  }
 },
 "nbformat": 4,
 "nbformat_minor": 2
}
